{
 "cells": [
  {
   "cell_type": "markdown",
   "id": "eb79089f-7068-449c-9386-930b4771952f",
   "metadata": {},
   "source": [
    "# Análisis de Datos de Ventas\n",
    "Este proyecto se centra en analizar un conjunto de datos de ventas para identificar tendencias y patrones clave."
   ]
  },
  {
   "cell_type": "code",
   "execution_count": 4,
   "id": "64670811-8f9d-4c6e-85ea-9cf3a75f6bc4",
   "metadata": {},
   "outputs": [],
   "source": [
    "import pandas as pd"
   ]
  },
  {
   "cell_type": "code",
   "execution_count": 9,
   "id": "cc675ea7-0f43-482e-86fb-03bd3e542a6f",
   "metadata": {},
   "outputs": [],
   "source": [
    "df = pd.read_csv('D:/Ernesto/Data Analytics/Proyectos/analisis_datos_ventas/Global EV Data 2024.csv')"
   ]
  },
  {
   "cell_type": "code",
   "execution_count": 10,
   "id": "a7ebfcfb-88fd-4966-8ce7-e5000de0d6df",
   "metadata": {
    "collapsed": true,
    "jupyter": {
     "outputs_hidden": true
    },
    "scrolled": true
   },
   "outputs": [
    {
     "name": "stdout",
     "output_type": "stream",
     "text": [
      "      region    category       parameter  mode powertrain  year      unit  \\\n",
      "0  Australia  Historical  EV stock share  Cars         EV  2011   percent   \n",
      "1  Australia  Historical  EV sales share  Cars         EV  2011   percent   \n",
      "2  Australia  Historical        EV sales  Cars        BEV  2011  Vehicles   \n",
      "3  Australia  Historical        EV stock  Cars        BEV  2011  Vehicles   \n",
      "4  Australia  Historical        EV stock  Cars        BEV  2012  Vehicles   \n",
      "\n",
      "       value  \n",
      "0    0.00039  \n",
      "1    0.00650  \n",
      "2   49.00000  \n",
      "3   49.00000  \n",
      "4  220.00000  \n"
     ]
    }
   ],
   "source": [
    "# Muestra el tamaño del DataFrame (filas, columnas)\n",
    "print(df.head())"
   ]
  },
  {
   "cell_type": "code",
   "execution_count": 12,
   "id": "fcb092ba-8b5c-4033-9c73-9063353bf7ea",
   "metadata": {},
   "outputs": [
    {
     "name": "stdout",
     "output_type": "stream",
     "text": [
      "(12654, 8)\n"
     ]
    }
   ],
   "source": [
    "print(df.shape)"
   ]
  },
  {
   "cell_type": "code",
   "execution_count": null,
   "id": "9a7e7c24-9068-4792-bd41-f773a8c85d49",
   "metadata": {},
   "outputs": [],
   "source": []
  }
 ],
 "metadata": {
  "kernelspec": {
   "display_name": "Python 3 (ipykernel)",
   "language": "python",
   "name": "python3"
  },
  "language_info": {
   "codemirror_mode": {
    "name": "ipython",
    "version": 3
   },
   "file_extension": ".py",
   "mimetype": "text/x-python",
   "name": "python",
   "nbconvert_exporter": "python",
   "pygments_lexer": "ipython3",
   "version": "3.12.5"
  }
 },
 "nbformat": 4,
 "nbformat_minor": 5
}
