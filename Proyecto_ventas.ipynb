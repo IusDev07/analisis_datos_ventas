{
 "cells": [
  {
   "cell_type": "markdown",
   "id": "eb79089f-7068-449c-9386-930b4771952f",
   "metadata": {},
   "source": [
    "# Análisis de Datos de Ventas\n",
    "Este proyecto se centra en analizar un conjunto de datos de ventas para identificar tendencias y patrones clave."
   ]
  },
  {
   "cell_type": "code",
   "execution_count": 4,
   "id": "64670811-8f9d-4c6e-85ea-9cf3a75f6bc4",
   "metadata": {},
   "outputs": [],
   "source": [
    "import pandas as pd"
   ]
  },
  {
   "cell_type": "code",
   "execution_count": 9,
   "id": "cc675ea7-0f43-482e-86fb-03bd3e542a6f",
   "metadata": {},
   "outputs": [],
   "source": [
    "df = pd.read_csv('D:/Ernesto/Data Analytics/Proyectos/analisis_datos_ventas/Global EV Data 2024.csv')"
   ]
  },
  {
   "cell_type": "code",
   "execution_count": 10,
   "id": "a7ebfcfb-88fd-4966-8ce7-e5000de0d6df",
   "metadata": {
    "collapsed": true,
    "jupyter": {
     "outputs_hidden": true
    },
    "scrolled": true
   },
   "outputs": [
    {
     "name": "stdout",
     "output_type": "stream",
     "text": [
      "      region    category       parameter  mode powertrain  year      unit  \\\n",
      "0  Australia  Historical  EV stock share  Cars         EV  2011   percent   \n",
      "1  Australia  Historical  EV sales share  Cars         EV  2011   percent   \n",
      "2  Australia  Historical        EV sales  Cars        BEV  2011  Vehicles   \n",
      "3  Australia  Historical        EV stock  Cars        BEV  2011  Vehicles   \n",
      "4  Australia  Historical        EV stock  Cars        BEV  2012  Vehicles   \n",
      "\n",
      "       value  \n",
      "0    0.00039  \n",
      "1    0.00650  \n",
      "2   49.00000  \n",
      "3   49.00000  \n",
      "4  220.00000  \n"
     ]
    }
   ],
   "source": [
    "# Muestra el tamaño del DataFrame (filas, columnas)\n",
    "print(df.head())"
   ]
  },
  {
   "cell_type": "code",
   "execution_count": 12,
   "id": "fcb092ba-8b5c-4033-9c73-9063353bf7ea",
   "metadata": {},
   "outputs": [
    {
     "name": "stdout",
     "output_type": "stream",
     "text": [
      "(12654, 8)\n"
     ]
    }
   ],
   "source": [
    "# Muestra el tamaño del DataFrame (filas, columnas)\n",
    "print(df.shape)"
   ]
  },
  {
   "cell_type": "code",
   "execution_count": 13,
   "id": "9a7e7c24-9068-4792-bd41-f773a8c85d49",
   "metadata": {
    "collapsed": true,
    "jupyter": {
     "outputs_hidden": true
    }
   },
   "outputs": [
    {
     "name": "stdout",
     "output_type": "stream",
     "text": [
      "<bound method DataFrame.info of           region          category           parameter    mode  \\\n",
      "0      Australia        Historical      EV stock share    Cars   \n",
      "1      Australia        Historical      EV sales share    Cars   \n",
      "2      Australia        Historical            EV sales    Cars   \n",
      "3      Australia        Historical            EV stock    Cars   \n",
      "4      Australia        Historical            EV stock    Cars   \n",
      "...          ...               ...                 ...     ...   \n",
      "12649      World  Projection-STEPS      EV sales share    Cars   \n",
      "12650      World  Projection-STEPS      EV stock share    Cars   \n",
      "12651      World    Projection-APS  EV charging points      EV   \n",
      "12652      World    Projection-APS  EV charging points      EV   \n",
      "12653      World  Projection-STEPS      EV stock share  Trucks   \n",
      "\n",
      "                    powertrain  year             unit         value  \n",
      "0                           EV  2011          percent  3.900000e-04  \n",
      "1                           EV  2011          percent  6.500000e-03  \n",
      "2                          BEV  2011         Vehicles  4.900000e+01  \n",
      "3                          BEV  2011         Vehicles  4.900000e+01  \n",
      "4                          BEV  2012         Vehicles  2.200000e+02  \n",
      "...                        ...   ...              ...           ...  \n",
      "12649                       EV  2035          percent  5.500000e+01  \n",
      "12650                       EV  2035          percent  3.100000e+01  \n",
      "12651  Publicly available fast  2035  charging points  9.400000e+06  \n",
      "12652  Publicly available slow  2035  charging points  1.500000e+07  \n",
      "12653                       EV  2035          percent  9.000000e+00  \n",
      "\n",
      "[12654 rows x 8 columns]>\n"
     ]
    }
   ],
   "source": [
    "# Muestra información general sobre el DataFrame, incluyendo los tipos de datos y los valores nulos\n",
    "print(df.info)"
   ]
  },
  {
   "cell_type": "code",
   "execution_count": 14,
   "id": "69a497c3-3f87-44dc-baf6-477d445011fe",
   "metadata": {},
   "outputs": [
    {
     "name": "stdout",
     "output_type": "stream",
     "text": [
      "               year         value\n",
      "count  12654.000000  1.265400e+04\n",
      "mean    2019.822112  4.273742e+05\n",
      "std        5.476494  6.860498e+06\n",
      "min     2010.000000  1.200000e-06\n",
      "25%     2016.000000  2.000000e+00\n",
      "50%     2020.000000  1.300000e+02\n",
      "75%     2022.000000  5.500000e+03\n",
      "max     2035.000000  4.400000e+08\n"
     ]
    }
   ],
   "source": [
    "# Muestra estadísticas básicas sobre las columnas numéricas\n",
    "print(df.describe())"
   ]
  },
  {
   "cell_type": "code",
   "execution_count": null,
   "id": "8a820b12-632b-4175-b7c4-a67e3abf5399",
   "metadata": {},
   "outputs": [],
   "source": []
  }
 ],
 "metadata": {
  "kernelspec": {
   "display_name": "Python 3 (ipykernel)",
   "language": "python",
   "name": "python3"
  },
  "language_info": {
   "codemirror_mode": {
    "name": "ipython",
    "version": 3
   },
   "file_extension": ".py",
   "mimetype": "text/x-python",
   "name": "python",
   "nbconvert_exporter": "python",
   "pygments_lexer": "ipython3",
   "version": "3.12.5"
  }
 },
 "nbformat": 4,
 "nbformat_minor": 5
}
